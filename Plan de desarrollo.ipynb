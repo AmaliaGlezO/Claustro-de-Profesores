{
 "cells": [
  {
   "cell_type": "code",
   "execution_count": null,
   "metadata": {},
   "outputs": [],
   "source": []
  },
  {
   "cell_type": "markdown",
   "metadata": {},
   "source": [
    "# Grupos de investigación:\n",
    "### Grupo de Algebra:  \n",
    "    Integrantes:    \n",
    "    . Dr. José Fidel Hernández Advíncula fidel@matcom.uh.cu  \n",
    "    . M. Sc. Beatriz de Rancell Montero Deus betty@matcom.uh.cu  \n",
    "    Resultados últimos 5 años:  \n",
    "    . 5 Trabajos de Diploma  \n",
    "    . 4 Tesis de Maestría  \n",
    "    . 5 ponencias en Compumat 2015, 3 ponencias en Compumat 2017, 1 ponencia en Compumat 2019  \n",
    "  \n",
    "### Vizualizacion y gráficos por computadora:  \n",
    "    Integrantes:  \n",
    "        . Alejandro Piad   \n",
    "        . Ludwig Leonard  \n",
    "        . Ernesto Izquierdo  \n",
    "    Logros:  \n",
    "        . E-Buffer: Una Representación en Espacio de Vista para Aplicaciones de Iluminación Global en Tiempo Real. Alejandro Piad, Ludwig Leonard. 2014. Ciencias Matemáticas  \n",
    "  \n",
    "        . A-PIT: Estructura de Subdivisión Espacial Aceleración de Raytracing en GPU. Jean L’Clerc, Alejandro Piad, Ludwig Leonard. 2016. Ciencias Informáticas.  \n",
    "          \n",
    "        . GSL – Un Lenguaje de Dominio Específico para la definición de Gráficos. Ernesto Izquierdo, Ludwig Leonard. 2013. CIbSE. Uruguay.  \n",
    "\n",
    "### Sistemas de Información e Inteligencia de Negocios (ISBIG 1)\n",
    "    Integrantes:\n",
    "    . Dra. C. Lucina García Hernández – lucina@matcom.uh.cu  (Jefa del Grupo de Investigación)\n",
    "    . Cs. Martha Montes de Oca Richardson – martha@matcom.uh.cu\n",
    "    . Cs. Carmen Fernández Montoto – carmen@matcom.uh.cu\n",
    "    . Cs. Mario A. Prado Romero – mario.prado@matcom.uh.cu\n",
    "    . Lic. Claudia Quintana Wong – claudia.quintana@matcom.uh.cu\n",
    "    . Lic. Carlos Fleitas Aparicio – carlos.fleitas@matcom.uh.cu\n",
    "\n",
    "### Probabilidades y Estadística\n",
    "    Integrantes:\n",
    "    . Carlos Bouza\n",
    "    . Vivian Sistachs\n",
    "    . José Valdés\n",
    "    . Gabriela Bayolo\n",
    "    . Marelys Crespo\n",
    "    . Yanet García\n",
    "    . Elianys Garcia\n",
    "    . Dalia Díaz"
   ]
  }
 ],
 "metadata": {
  "language_info": {
   "name": "python"
  }
 },
 "nbformat": 4,
 "nbformat_minor": 2
}
